{
  "nbformat": 4,
  "nbformat_minor": 0,
  "metadata": {
    "colab": {
      "name": "helloween_lyrics.ipynb",
      "provenance": [],
      "collapsed_sections": [],
      "authorship_tag": "ABX9TyPbZmnh2kbVaGLcpSzDeEaU",
      "include_colab_link": true
    },
    "kernelspec": {
      "name": "python3",
      "display_name": "Python 3"
    }
  },
  "cells": [
    {
      "cell_type": "markdown",
      "metadata": {
        "id": "view-in-github",
        "colab_type": "text"
      },
      "source": [
        "<a href=\"https://colab.research.google.com/github/medeirosjoaquim/helloween_lyrics/blob/main/helloween_lyrics.ipynb\" target=\"_parent\"><img src=\"https://colab.research.google.com/assets/colab-badge.svg\" alt=\"Open In Colab\"/></a>"
      ]
    },
    {
      "cell_type": "markdown",
      "metadata": {
        "id": "r9XEMekXJkWN"
      },
      "source": [
        "# Getting the links to all Helloween albums"
      ]
    },
    {
      "cell_type": "markdown",
      "metadata": {
        "id": "WsYkNMpM8TSu"
      },
      "source": [
        "We'll be using BeautifulSoup to parse darklyrics.com and get a list of the links to all Helloween's albums in order to have access to all the lyrics and, in this way, be able to do all kinds of data analysis."
      ]
    },
    {
      "cell_type": "markdown",
      "metadata": {
        "id": "8mk6Nq1C7ymo"
      },
      "source": [
        "First We import python ```requests``` (to download the page We wanna parse) and then the class ```BeautifulSoup``` from the library bs4\n"
      ]
    },
    {
      "cell_type": "code",
      "metadata": {
        "id": "ud6LWa2K7zM3"
      },
      "source": [
        "import requests\n",
        "from bs4 import BeautifulSoup\n"
      ],
      "execution_count": null,
      "outputs": []
    },
    {
      "cell_type": "markdown",
      "metadata": {
        "id": "9Z71FUEM8Oom"
      },
      "source": [
        "Now we use ```requests``` to get the page that contains the links to all the lyrics all the albums.\n",
        "\n",
        "We'll need to repeat this pattern again, so let's create a function that receives an URL an returns a soup parsed object."
      ]
    },
    {
      "cell_type": "code",
      "metadata": {
        "id": "jaMXuca-8O9v"
      },
      "source": [
        "\n",
        "def get_page(url):\n",
        "    page = requests.get(url)\n",
        "    soup = BeautifulSoup(page.content, 'html.parser')\n",
        "    return soup  \n",
        "\n",
        "\n",
        "#page = requests.get(\"http://www.darklyrics.com/h/helloween.html\")\n",
        "#soup = BeautifulSoup(page.content, 'html.parser')\n",
        "\n",
        "\n"
      ],
      "execution_count": 35,
      "outputs": []
    },
    {
      "cell_type": "markdown",
      "metadata": {
        "id": "9lwSjjv29GaF"
      },
      "source": [
        " The problem is that We just want the links to the albums and not to any individual songs (that are, in fact, just link to id tags on the album page)"
      ]
    },
    {
      "cell_type": "markdown",
      "metadata": {
        "id": "HcKmK-tUA3iI"
      },
      "source": [
        "So We need to clean it a little bit. For each div with the CSS class \"album\", We're gonna extract all first ```a``` tags and, from those, the ```href``` attributes.\n",
        "\n",
        "Also, each link has ```..``` for relative paths an id on it, We just need to remove this."
      ]
    },
    {
      "cell_type": "markdown",
      "metadata": {
        "id": "gq-a4SymA0yv"
      },
      "source": [
        ""
      ]
    },
    {
      "cell_type": "code",
      "metadata": {
        "id": "tsurWFZfA1JU"
      },
      "source": [
        "albums = get_page('http://www.darklyrics.com/h/helloween.html').findAll(\"div\", {\"class\": \"album\"})\n",
        "albums_link_list = []\n",
        "for album in albums:\n",
        "    albums_link_list.append(album.a['href'].replace('..', '').replace('#1', ''))\n",
        "  "
      ],
      "execution_count": 38,
      "outputs": []
    },
    {
      "cell_type": "markdown",
      "metadata": {
        "id": "VTUIgyUaDqh_"
      },
      "source": [
        "Ok. Now that We have all the links, We can visit each one and get the lyrics for each album.\n",
        "\n",
        "Let's first append the url part that's not on the links:"
      ]
    },
    {
      "cell_type": "code",
      "metadata": {
        "colab": {
          "base_uri": "https://localhost:8080/"
        },
        "id": "iYSszEI5Dpt1",
        "outputId": "704b41e7-665a-4f8c-9e1e-a970a559443a"
      },
      "source": [
        " albums_urls = []\n",
        " for album_link in albums_link_list:\n",
        "   albums_urls.append('http://www.darklyrics.com' + album_link)\n",
        "print (albums_urls)\n",
        "    "
      ],
      "execution_count": 36,
      "outputs": [
        {
          "output_type": "stream",
          "text": [
            "['http://www.darklyrics.com/lyrics/helloween/helloween.html', 'http://www.darklyrics.com/lyrics/helloween/wallsofjericho.html', 'http://www.darklyrics.com/lyrics/helloween/judas.html', 'http://www.darklyrics.com/lyrics/helloween/keeperofthesevenkeysparti.html', 'http://www.darklyrics.com/lyrics/helloween/drstein.html', 'http://www.darklyrics.com/lyrics/helloween/iwantout.html', 'http://www.darklyrics.com/lyrics/helloween/keeperofthesevenkeyspartii.html', 'http://www.darklyrics.com/lyrics/helloween/kidsofthecentury.html', 'http://www.darklyrics.com/lyrics/helloween/numberone.html', 'http://www.darklyrics.com/lyrics/helloween/pinkbubblesgoape.html', 'http://www.darklyrics.com/lyrics/helloween/chameleon.html', 'http://www.darklyrics.com/lyrics/helloween/idontwannacrynomore.html', 'http://www.darklyrics.com/lyrics/helloween/stepoutofhell.html', 'http://www.darklyrics.com/lyrics/helloween/whenthesinner.html', 'http://www.darklyrics.com/lyrics/helloween/masteroftherings.html', 'http://www.darklyrics.com/lyrics/helloween/mregotakemedown.html', 'http://www.darklyrics.com/lyrics/helloween/perfectgentleman.html', 'http://www.darklyrics.com/lyrics/helloween/solesurvivor.html', 'http://www.darklyrics.com/lyrics/helloween/foreverandoneneverland.html', 'http://www.darklyrics.com/lyrics/helloween/power.html', 'http://www.darklyrics.com/lyrics/helloween/thetimeoftheoath.html', 'http://www.darklyrics.com/lyrics/helloween/betterthanraw.html', 'http://www.darklyrics.com/lyrics/helloween/thedarkride.html', 'http://www.darklyrics.com/lyrics/helloween/rabbitdontcomeeasy.html', 'http://www.darklyrics.com/lyrics/helloween/keeperofthesevenkeysthelegacy.html', 'http://www.darklyrics.com/lyrics/helloween/gamblingwiththedevil.html', 'http://www.darklyrics.com/lyrics/helloween/unarmed.html', 'http://www.darklyrics.com/lyrics/helloween/7sinners.html', 'http://www.darklyrics.com/lyrics/helloween/straightoutofhell.html', 'http://www.darklyrics.com/lyrics/helloween/mygodgivenright.html', 'http://www.darklyrics.com/lyrics/helloween/pumpkinsunited.html']\n"
          ],
          "name": "stdout"
        }
      ]
    }
  ]
}